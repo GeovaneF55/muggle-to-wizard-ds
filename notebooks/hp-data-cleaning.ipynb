{
 "cells": [
  {
   "cell_type": "markdown",
   "metadata": {},
   "source": [
    "# Muggle to Wizard Data Cleaning"
   ]
  },
  {
   "cell_type": "code",
   "execution_count": 2,
   "metadata": {},
   "outputs": [],
   "source": [
    "!rm -rf ../data"
   ]
  },
  {
   "cell_type": "code",
   "execution_count": 3,
   "metadata": {},
   "outputs": [],
   "source": [
    "import os\n",
    "import sys\n",
    "\n",
    "module_path = '{}/code'.format(os.path.abspath(os.path.join('..')))\n",
    "if module_path not in sys.path:\n",
    "    sys.path.append(module_path)"
   ]
  },
  {
   "cell_type": "code",
   "execution_count": 4,
   "metadata": {},
   "outputs": [
    {
     "name": "stdout",
     "output_type": "stream",
     "text": [
      "Downloaded 'hp1_sorcerers_stone' to 'data/' folder.\n",
      "Downloaded 'hp2_chamber_of_secrets' to 'data/' folder.\n",
      "Downloaded 'hp3_prisioner_of_azkaban' to 'data/' folder.\n",
      "Downloaded 'hp4_globet_of_fire' to 'data/' folder.\n",
      "Downloaded 'hp5_order_of_the_phoenix' to 'data/' folder.\n",
      "Downloaded 'hp6_half_blood_prince' to 'data/' folder.\n",
      "Downloaded 'hp7_deathly_hallows' to 'data/' folder.\n",
      "Downloaded 'hp_places_list' to 'data/' folder.\n",
      "Downloaded 'hp_characters_list' to 'data/' folder.\n",
      "Downloaded 'hp_classes_list' to 'data/' folder.\n",
      "Downloaded 'hp_spells_list' to 'data/' folder.\n"
     ]
    }
   ],
   "source": [
    "import utils\n",
    "from variables import *\n",
    "\n",
    "!mkdir ../data\n",
    "utils.download_files(BOOKS)\n",
    "utils.download_files(EXTRAS)\n",
    "utils.extract_html_table(SPELLS, na_values=['—'])"
   ]
  },
  {
   "cell_type": "code",
   "execution_count": 5,
   "metadata": {},
   "outputs": [],
   "source": [
    "import glob\n",
    "import json\n",
    "import pandas as pd\n",
    "\n",
    "books, spells, extras = {}, {}, {}\n",
    "\n",
    "for f in sorted(glob.glob(os.path.join('../data', '*.txt'))):\n",
    "    with open(f, 'r', encoding='utf-8', errors='ignore') as file:\n",
    "        books[os.path.splitext(os.path.basename(f))[0]] = file.read().replace('\\n', ' ')\n",
    "        \n",
    "for f in sorted(glob.glob(os.path.join('../data', '*.csv'))):\n",
    "    extras[os.path.splitext(os.path.basename(f))[0]] = pd.read_csv(f, header=None)[0].tolist()\n",
    "        \n",
    "spells = pd.read_json(glob.glob(os.path.join('../data', '*.json'))[0], lines=True)\n",
    "spells = spells[~spells['Resulting Effect'].str.contains('game')]"
   ]
  },
  {
   "cell_type": "code",
   "execution_count": 6,
   "metadata": {},
   "outputs": [
    {
     "data": {
      "text/html": [
       "<div>\n",
       "<style scoped>\n",
       "    .dataframe tbody tr th:only-of-type {\n",
       "        vertical-align: middle;\n",
       "    }\n",
       "\n",
       "    .dataframe tbody tr th {\n",
       "        vertical-align: top;\n",
       "    }\n",
       "\n",
       "    .dataframe thead th {\n",
       "        text-align: right;\n",
       "    }\n",
       "</style>\n",
       "<table border=\"1\" class=\"dataframe\">\n",
       "  <thead>\n",
       "    <tr style=\"text-align: right;\">\n",
       "      <th></th>\n",
       "      <th>Incantation</th>\n",
       "      <th>Resulting Effect</th>\n",
       "      <th>Type</th>\n",
       "    </tr>\n",
       "  </thead>\n",
       "  <tbody>\n",
       "    <tr>\n",
       "      <th>0</th>\n",
       "      <td>Aberto</td>\n",
       "      <td>Opens objects</td>\n",
       "      <td>Charm</td>\n",
       "    </tr>\n",
       "    <tr>\n",
       "      <th>1</th>\n",
       "      <td>Accio</td>\n",
       "      <td>Summons an object</td>\n",
       "      <td>Charm</td>\n",
       "    </tr>\n",
       "    <tr>\n",
       "      <th>2</th>\n",
       "      <td>Age Line</td>\n",
       "      <td>Hides things from younger people</td>\n",
       "      <td>Enchanment</td>\n",
       "    </tr>\n",
       "    <tr>\n",
       "      <th>3</th>\n",
       "      <td>Aguamenti</td>\n",
       "      <td>Shoots water from wand.</td>\n",
       "      <td>Charm</td>\n",
       "    </tr>\n",
       "    <tr>\n",
       "      <th>4</th>\n",
       "      <td>Alarte Ascendare</td>\n",
       "      <td>Shoots things high in the air</td>\n",
       "      <td>Spell</td>\n",
       "    </tr>\n",
       "    <tr>\n",
       "      <th>5</th>\n",
       "      <td>Alohomora</td>\n",
       "      <td>Opens locked objects</td>\n",
       "      <td>Charm</td>\n",
       "    </tr>\n",
       "    <tr>\n",
       "      <th>6</th>\n",
       "      <td>Anapneo</td>\n",
       "      <td>Clears the target’s airway.</td>\n",
       "      <td>Spell</td>\n",
       "    </tr>\n",
       "    <tr>\n",
       "      <th>7</th>\n",
       "      <td>Anteoculatia</td>\n",
       "      <td>Turns head hair into antlers</td>\n",
       "      <td>Hex</td>\n",
       "    </tr>\n",
       "    <tr>\n",
       "      <th>8</th>\n",
       "      <td>Anti-Cheating</td>\n",
       "      <td>Prevents Cheating on Exams</td>\n",
       "      <td>Spell</td>\n",
       "    </tr>\n",
       "    <tr>\n",
       "      <th>9</th>\n",
       "      <td>Aparecium</td>\n",
       "      <td>Reveals invisible ink</td>\n",
       "      <td>Spell</td>\n",
       "    </tr>\n",
       "  </tbody>\n",
       "</table>\n",
       "</div>"
      ],
      "text/plain": [
       "        Incantation                  Resulting Effect        Type\n",
       "0            Aberto                     Opens objects       Charm\n",
       "1             Accio                 Summons an object       Charm\n",
       "2          Age Line  Hides things from younger people  Enchanment\n",
       "3         Aguamenti           Shoots water from wand.       Charm\n",
       "4  Alarte Ascendare     Shoots things high in the air       Spell\n",
       "5         Alohomora              Opens locked objects       Charm\n",
       "6           Anapneo       Clears the target’s airway.       Spell\n",
       "7      Anteoculatia      Turns head hair into antlers         Hex\n",
       "8     Anti-Cheating        Prevents Cheating on Exams       Spell\n",
       "9         Aparecium             Reveals invisible ink       Spell"
      ]
     },
     "execution_count": 6,
     "metadata": {},
     "output_type": "execute_result"
    }
   ],
   "source": [
    "spells.head(10)"
   ]
  },
  {
   "cell_type": "code",
   "execution_count": 7,
   "metadata": {},
   "outputs": [
    {
     "data": {
      "text/plain": [
       "dict_keys(['hp_characters_list', 'hp_classes_list', 'hp_places_list'])"
      ]
     },
     "execution_count": 7,
     "metadata": {},
     "output_type": "execute_result"
    }
   ],
   "source": [
    "extras.keys()"
   ]
  },
  {
   "cell_type": "code",
   "execution_count": 8,
   "metadata": {},
   "outputs": [
    {
     "data": {
      "text/plain": [
       "\"Harry Potter and the Sorcerer's Stone   CHAPTER ONE   THE BOY WHO LIVED   Mr. and Mrs. Dursley, of number four, Privet Drive, were proud to say that they were perfectly normal, thank you very much. They were the last people you'd expect to be involved in anything strange or mysterious, because they just didn't hold with such nonsense.   Mr. Dursley was the director of a firm called Grunnings, which made drills. He was a big, beefy man with hardly any neck, although he did have a very large musta\""
      ]
     },
     "execution_count": 8,
     "metadata": {},
     "output_type": "execute_result"
    }
   ],
   "source": [
    "books['hp1_sorcerers_stone'][:500]"
   ]
  },
  {
   "cell_type": "code",
   "execution_count": 9,
   "metadata": {},
   "outputs": [],
   "source": [
    "try:\n",
    "    import string\n",
    "    import nltk\n",
    "    from nltk import word_tokenize, ngrams\n",
    "    from nltk.corpus import stopwords\n",
    "except:\n",
    "    import string\n",
    "    import nltk\n",
    "    from nltk import word_tokenize, ngrams\n",
    "    nltk.download('stopwords')\n",
    "    from nltk.corpus import stopwords"
   ]
  },
  {
   "cell_type": "code",
   "execution_count": 10,
   "metadata": {},
   "outputs": [],
   "source": [
    "punc = str.maketrans('', '', string.punctuation)\n",
    "\n",
    "def normalize_text(text):\n",
    "    tokens = word_tokenize(text.translate(punc))    \n",
    "    sw = stopwords.words('english')\n",
    "    content = [w.lower() for w in tokens if w.lower() not in sw]\n",
    "    return content\n",
    "    \n",
    "def get_bigrams(text):\n",
    "    tokens = word_tokenize(text.translate(punc))    \n",
    "    return ngrams(tokens, 2)\n",
    "    \n",
    "def get_trigrams(text):\n",
    "    tokens = word_tokenize(text.translate(punc))    \n",
    "    return ngrams(tokens, 3)\n",
    "\n",
    "def get_wordcount(text):\n",
    "    tokens = word_tokenize(text.translate(punc))    \n",
    "    return len(tokens)\n",
    "    \n",
    "def get_unique_wordcount(text):\n",
    "    tokens = word_tokenize(text.translate(punc))    \n",
    "    return len(set(tokens))\n",
    "    \n",
    "def get_punctuation_count(text):\n",
    "    punctuation = [c for c in text if c in string.punctuation]\n",
    "    return len(punctuation)"
   ]
  },
  {
   "cell_type": "code",
   "execution_count": 11,
   "metadata": {},
   "outputs": [],
   "source": [
    "books_clean = {}\n",
    "\n",
    "for book in books.keys():\n",
    "    books_clean[book] = normalize_text(books[book])\n",
    "    books_clean['{}_bigrams'.format(book)] = get_bigrams(books[book])\n",
    "    books_clean['{}_trigrams'.format(book)] = get_trigrams(books[book])\n",
    "    books_clean['{}_wordcount'.format(book)] = get_wordcount(books[book])\n",
    "    books_clean['{}_unique_words_count'.format(book)] = get_unique_wordcount(books[book])\n",
    "    books_clean['{}_punctuation_count'.format(book)] = get_punctuation_count(books[book])"
   ]
  },
  {
   "cell_type": "code",
   "execution_count": 12,
   "metadata": {},
   "outputs": [
    {
     "data": {
      "text/plain": [
       "dict_keys(['hp1_sorcerers_stone', 'hp1_sorcerers_stone_bigrams', 'hp1_sorcerers_stone_trigrams', 'hp1_sorcerers_stone_wordcount', 'hp1_sorcerers_stone_unique_words_count', 'hp1_sorcerers_stone_punctuation_count', 'hp2_chamber_of_secrets', 'hp2_chamber_of_secrets_bigrams', 'hp2_chamber_of_secrets_trigrams', 'hp2_chamber_of_secrets_wordcount', 'hp2_chamber_of_secrets_unique_words_count', 'hp2_chamber_of_secrets_punctuation_count', 'hp3_prisioner_of_azkaban', 'hp3_prisioner_of_azkaban_bigrams', 'hp3_prisioner_of_azkaban_trigrams', 'hp3_prisioner_of_azkaban_wordcount', 'hp3_prisioner_of_azkaban_unique_words_count', 'hp3_prisioner_of_azkaban_punctuation_count', 'hp4_globet_of_fire', 'hp4_globet_of_fire_bigrams', 'hp4_globet_of_fire_trigrams', 'hp4_globet_of_fire_wordcount', 'hp4_globet_of_fire_unique_words_count', 'hp4_globet_of_fire_punctuation_count', 'hp5_order_of_the_phoenix', 'hp5_order_of_the_phoenix_bigrams', 'hp5_order_of_the_phoenix_trigrams', 'hp5_order_of_the_phoenix_wordcount', 'hp5_order_of_the_phoenix_unique_words_count', 'hp5_order_of_the_phoenix_punctuation_count', 'hp6_half_blood_prince', 'hp6_half_blood_prince_bigrams', 'hp6_half_blood_prince_trigrams', 'hp6_half_blood_prince_wordcount', 'hp6_half_blood_prince_unique_words_count', 'hp6_half_blood_prince_punctuation_count', 'hp7_deathly_hallows', 'hp7_deathly_hallows_bigrams', 'hp7_deathly_hallows_trigrams', 'hp7_deathly_hallows_wordcount', 'hp7_deathly_hallows_unique_words_count', 'hp7_deathly_hallows_punctuation_count'])"
      ]
     },
     "execution_count": 12,
     "metadata": {},
     "output_type": "execute_result"
    }
   ],
   "source": [
    "books_clean.keys()"
   ]
  },
  {
   "cell_type": "code",
   "execution_count": 13,
   "metadata": {},
   "outputs": [
    {
     "ename": "NameError",
     "evalue": "name 'finltk' is not defined",
     "output_type": "error",
     "traceback": [
      "\u001b[0;31m---------------------------------------------------------------------------\u001b[0m",
      "\u001b[0;31mNameError\u001b[0m                                 Traceback (most recent call last)",
      "\u001b[0;32m<ipython-input-13-67af5d0ec95f>\u001b[0m in \u001b[0;36m<module>\u001b[0;34m\u001b[0m\n\u001b[1;32m     24\u001b[0m \u001b[0mmost_important_dudes\u001b[0m\u001b[0;34m\u001b[0m\u001b[0;34m\u001b[0m\u001b[0m\n\u001b[1;32m     25\u001b[0m \u001b[0;34m\u001b[0m\u001b[0m\n\u001b[0;32m---> 26\u001b[0;31m finltk.draw.dispersion.dispersion_plot(\n\u001b[0m\u001b[1;32m     27\u001b[0m     \u001b[0mall_text\u001b[0m\u001b[0;34m,\u001b[0m \u001b[0mmost_important_dudes\u001b[0m\u001b[0;34m,\u001b[0m \u001b[0mignore_case\u001b[0m\u001b[0;34m=\u001b[0m\u001b[0;32mFalse\u001b[0m\u001b[0;34m,\u001b[0m\u001b[0;34m\u001b[0m\u001b[0;34m\u001b[0m\u001b[0m\n\u001b[1;32m     28\u001b[0m     \u001b[0mtitle\u001b[0m\u001b[0;34m=\u001b[0m\u001b[0;34m'Word Dispersion in the Harry Potter Series'\u001b[0m\u001b[0;34m\u001b[0m\u001b[0;34m\u001b[0m\u001b[0m\n",
      "\u001b[0;31mNameError\u001b[0m: name 'finltk' is not defined"
     ]
    }
   ],
   "source": [
    "%matplotlib inline\n",
    "from matplotlib import pyplot as plt\n",
    "from collections import Counter\n",
    "\n",
    "all_books_t = list()\n",
    "hp = ''\n",
    "\n",
    "for b in books.keys():\n",
    "    all_books_t = all_books_t + books_clean[b]\n",
    "    hp = hp + ' ' + books[b]\n",
    "\n",
    "all_text = nltk.Text(all_books_t)\n",
    "characters = extras['hp_characters_list']\n",
    "characters = set([c.split()[0] for c in extras['hp_characters_list']] + [c.split()[-1] for c in extras['hp_characters_list']])\n",
    "characters = [t for t in characters if t != 'The']\n",
    "\n",
    "c_aux = {}\n",
    "\n",
    "for c in characters:\n",
    "    c_aux[c] = hp.count(c)\n",
    "    \n",
    "most_important_dudes = sorted(c_aux.items(), key=lambda kv: kv[1], reverse=True)\n",
    "most_important_dudes = [t[0] for t in most_important_dudes[:10]]\n",
    "most_important_dudes\n",
    "\n",
    "finltk.draw.dispersion.dispersion_plot(\n",
    "    all_text, most_important_dudes, ignore_case=False,\n",
    "    title='Word Dispersion in the Harry Potter Series'\n",
    ")"
   ]
  },
  {
   "cell_type": "code",
   "execution_count": 149,
   "metadata": {},
   "outputs": [
    {
     "data": {
      "text/plain": [
       "['Harry',\n",
       " 'Ron',\n",
       " 'Hermione',\n",
       " 'Dumbledore',\n",
       " 'Hagrid',\n",
       " 'Snape',\n",
       " 'Weasley',\n",
       " 'Malfoy',\n",
       " 'Voldemort',\n",
       " 'Potter',\n",
       " 'Sirius',\n",
       " 'Fred',\n",
       " 'Lupin',\n",
       " 'George',\n",
       " 'Neville',\n",
       " 'Ginny',\n",
       " 'McGonagall',\n",
       " 'Gryffindor',\n",
       " 'Umbridge',\n",
       " 'Moody']"
      ]
     },
     "execution_count": 149,
     "metadata": {},
     "output_type": "execute_result"
    }
   ],
   "source": []
  },
  {
   "cell_type": "code",
   "execution_count": null,
   "metadata": {},
   "outputs": [],
   "source": []
  },
  {
   "cell_type": "code",
   "execution_count": null,
   "metadata": {},
   "outputs": [],
   "source": []
  },
  {
   "cell_type": "code",
   "execution_count": 95,
   "metadata": {},
   "outputs": [
    {
     "data": {
      "text/plain": [
       "list"
      ]
     },
     "execution_count": 95,
     "metadata": {},
     "output_type": "execute_result"
    }
   ],
   "source": [
    "type(books_clean['hp1_sorcerers_stone'])"
   ]
  },
  {
   "cell_type": "code",
   "execution_count": 105,
   "metadata": {},
   "outputs": [
    {
     "data": {
      "text/plain": [
       "['harry',\n",
       " 'potter',\n",
       " 'sorcerers',\n",
       " 'stone',\n",
       " 'chapter',\n",
       " 'one',\n",
       " 'boy',\n",
       " 'lived',\n",
       " 'mr',\n",
       " 'mrs',\n",
       " 'dursley',\n",
       " 'number',\n",
       " 'four',\n",
       " 'privet',\n",
       " 'drive',\n",
       " 'proud',\n",
       " 'say',\n",
       " 'perfectly',\n",
       " 'normal',\n",
       " 'thank',\n",
       " 'much',\n",
       " 'last',\n",
       " 'people',\n",
       " 'youd',\n",
       " 'expect',\n",
       " 'involved',\n",
       " 'anything',\n",
       " 'strange',\n",
       " 'mysterious',\n",
       " 'didnt',\n",
       " 'hold',\n",
       " 'nonsense',\n",
       " 'mr',\n",
       " 'dursley',\n",
       " 'director',\n",
       " 'firm',\n",
       " 'called',\n",
       " 'grunnings',\n",
       " 'made',\n",
       " 'drills',\n",
       " 'big',\n",
       " 'beefy',\n",
       " 'man',\n",
       " 'hardly',\n",
       " 'neck',\n",
       " 'although',\n",
       " 'large',\n",
       " 'mustache',\n",
       " 'mrs',\n",
       " 'dursley',\n",
       " 'thin',\n",
       " 'blonde',\n",
       " 'nearly',\n",
       " 'twice',\n",
       " 'usual',\n",
       " 'amount',\n",
       " 'neck',\n",
       " 'came',\n",
       " 'useful',\n",
       " 'spent',\n",
       " 'much',\n",
       " 'time',\n",
       " 'craning',\n",
       " 'garden',\n",
       " 'fences',\n",
       " 'spying',\n",
       " 'neighbors',\n",
       " 'dursleys',\n",
       " 'small',\n",
       " 'son',\n",
       " 'called',\n",
       " 'dudley',\n",
       " 'opinion',\n",
       " 'finer',\n",
       " 'boy',\n",
       " 'anywhere',\n",
       " 'dursleys',\n",
       " 'everything',\n",
       " 'wanted',\n",
       " 'also',\n",
       " 'secret',\n",
       " 'greatest',\n",
       " 'fear',\n",
       " 'somebody',\n",
       " 'would',\n",
       " 'discover',\n",
       " 'didnt',\n",
       " 'think',\n",
       " 'could',\n",
       " 'bear',\n",
       " 'anyone',\n",
       " 'found',\n",
       " 'potters',\n",
       " 'mrs',\n",
       " 'potter',\n",
       " 'mrs',\n",
       " 'dursleys',\n",
       " 'sister',\n",
       " 'hadnt',\n",
       " 'met']"
      ]
     },
     "execution_count": 105,
     "metadata": {},
     "output_type": "execute_result"
    }
   ],
   "source": [
    "all_text[:100]"
   ]
  },
  {
   "cell_type": "code",
   "execution_count": null,
   "metadata": {},
   "outputs": [],
   "source": []
  }
 ],
 "metadata": {
  "kernelspec": {
   "display_name": "Python 3",
   "language": "python",
   "name": "python3"
  },
  "language_info": {
   "codemirror_mode": {
    "name": "ipython",
    "version": 3
   },
   "file_extension": ".py",
   "mimetype": "text/x-python",
   "name": "python",
   "nbconvert_exporter": "python",
   "pygments_lexer": "ipython3",
   "version": "3.6.7"
  }
 },
 "nbformat": 4,
 "nbformat_minor": 2
}
