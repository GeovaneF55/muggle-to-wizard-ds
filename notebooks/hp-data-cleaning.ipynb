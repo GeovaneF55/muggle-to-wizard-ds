{
 "cells": [
  {
   "cell_type": "markdown",
   "metadata": {},
   "source": [
    "# Muggle to Wizard Data Cleaning"
   ]
  },
  {
   "cell_type": "code",
   "execution_count": 1,
   "metadata": {},
   "outputs": [],
   "source": [
    "!rm -rf ../data"
   ]
  },
  {
   "cell_type": "code",
   "execution_count": 2,
   "metadata": {},
   "outputs": [],
   "source": [
    "import os\n",
    "import sys\n",
    "\n",
    "module_path = '{}/code'.format(os.path.abspath(os.path.join('..')))\n",
    "if module_path not in sys.path:\n",
    "    sys.path.append(module_path)"
   ]
  },
  {
   "cell_type": "code",
   "execution_count": 3,
   "metadata": {},
   "outputs": [
    {
     "name": "stdout",
     "output_type": "stream",
     "text": [
      "Downloaded 'hp1_sorcerers_stone' to 'data/' folder.\n",
      "Downloaded 'hp2_chamber_of_secrets' to 'data/' folder.\n",
      "Downloaded 'hp3_prisioner_of_azkaban' to 'data/' folder.\n",
      "Downloaded 'hp4_globet_of_fire' to 'data/' folder.\n",
      "Downloaded 'hp5_order_of_the_phoenix' to 'data/' folder.\n",
      "Downloaded 'hp6_half_blood_prince' to 'data/' folder.\n",
      "Downloaded 'hp7_deathly_hallows' to 'data/' folder.\n",
      "Downloaded 'hp_places_list' to 'data/' folder.\n",
      "Downloaded 'hp_characters_list' to 'data/' folder.\n",
      "Downloaded 'hp_classes_list' to 'data/' folder.\n",
      "Downloaded 'hp_spells_list' to 'data/' folder.\n"
     ]
    }
   ],
   "source": [
    "import utils\n",
    "from variables import *\n",
    "\n",
    "!mkdir ../data\n",
    "utils.download_files(BOOKS)\n",
    "utils.download_files(EXTRAS)\n",
    "utils.extract_html_table(SPELLS, na_values=['—'])"
   ]
  },
  {
   "cell_type": "code",
   "execution_count": 4,
   "metadata": {},
   "outputs": [],
   "source": [
    "import glob\n",
    "import json\n",
    "import pandas as pd\n",
    "\n",
    "books, spells, extras = {}, {}, {}\n",
    "\n",
    "for f in sorted(glob.glob(os.path.join('../data', '*.txt'))):\n",
    "    with open(f, 'r', encoding='utf-8', errors='ignore') as file:\n",
    "        books[os.path.splitext(os.path.basename(f))[0]] = file.read().replace('\\n', ' ')\n",
    "        \n",
    "for f in sorted(glob.glob(os.path.join('../data', '*.csv'))):\n",
    "    extras[os.path.splitext(os.path.basename(f))[0]] = pd.read_csv(f, header=None)[0].tolist()\n",
    "        \n",
    "spells = pd.read_json(glob.glob(os.path.join('../data', '*.json'))[0], lines=True)\n",
    "spells = spells[~spells['Resulting Effect'].str.contains('game')]"
   ]
  },
  {
   "cell_type": "code",
   "execution_count": 5,
   "metadata": {},
   "outputs": [
    {
     "data": {
      "text/html": [
       "<div>\n",
       "<style scoped>\n",
       "    .dataframe tbody tr th:only-of-type {\n",
       "        vertical-align: middle;\n",
       "    }\n",
       "\n",
       "    .dataframe tbody tr th {\n",
       "        vertical-align: top;\n",
       "    }\n",
       "\n",
       "    .dataframe thead th {\n",
       "        text-align: right;\n",
       "    }\n",
       "</style>\n",
       "<table border=\"1\" class=\"dataframe\">\n",
       "  <thead>\n",
       "    <tr style=\"text-align: right;\">\n",
       "      <th></th>\n",
       "      <th>Incantation</th>\n",
       "      <th>Resulting Effect</th>\n",
       "      <th>Type</th>\n",
       "    </tr>\n",
       "  </thead>\n",
       "  <tbody>\n",
       "    <tr>\n",
       "      <th>0</th>\n",
       "      <td>Aberto</td>\n",
       "      <td>Opens objects</td>\n",
       "      <td>Charm</td>\n",
       "    </tr>\n",
       "    <tr>\n",
       "      <th>1</th>\n",
       "      <td>Accio</td>\n",
       "      <td>Summons an object</td>\n",
       "      <td>Charm</td>\n",
       "    </tr>\n",
       "    <tr>\n",
       "      <th>2</th>\n",
       "      <td>Age Line</td>\n",
       "      <td>Hides things from younger people</td>\n",
       "      <td>Enchanment</td>\n",
       "    </tr>\n",
       "    <tr>\n",
       "      <th>3</th>\n",
       "      <td>Aguamenti</td>\n",
       "      <td>Shoots water from wand.</td>\n",
       "      <td>Charm</td>\n",
       "    </tr>\n",
       "    <tr>\n",
       "      <th>4</th>\n",
       "      <td>Alarte Ascendare</td>\n",
       "      <td>Shoots things high in the air</td>\n",
       "      <td>Spell</td>\n",
       "    </tr>\n",
       "    <tr>\n",
       "      <th>5</th>\n",
       "      <td>Alohomora</td>\n",
       "      <td>Opens locked objects</td>\n",
       "      <td>Charm</td>\n",
       "    </tr>\n",
       "    <tr>\n",
       "      <th>6</th>\n",
       "      <td>Anapneo</td>\n",
       "      <td>Clears the target’s airway.</td>\n",
       "      <td>Spell</td>\n",
       "    </tr>\n",
       "    <tr>\n",
       "      <th>7</th>\n",
       "      <td>Anteoculatia</td>\n",
       "      <td>Turns head hair into antlers</td>\n",
       "      <td>Hex</td>\n",
       "    </tr>\n",
       "    <tr>\n",
       "      <th>8</th>\n",
       "      <td>Anti-Cheating</td>\n",
       "      <td>Prevents Cheating on Exams</td>\n",
       "      <td>Spell</td>\n",
       "    </tr>\n",
       "    <tr>\n",
       "      <th>9</th>\n",
       "      <td>Aparecium</td>\n",
       "      <td>Reveals invisible ink</td>\n",
       "      <td>Spell</td>\n",
       "    </tr>\n",
       "  </tbody>\n",
       "</table>\n",
       "</div>"
      ],
      "text/plain": [
       "        Incantation                  Resulting Effect        Type\n",
       "0            Aberto                     Opens objects       Charm\n",
       "1             Accio                 Summons an object       Charm\n",
       "2          Age Line  Hides things from younger people  Enchanment\n",
       "3         Aguamenti           Shoots water from wand.       Charm\n",
       "4  Alarte Ascendare     Shoots things high in the air       Spell\n",
       "5         Alohomora              Opens locked objects       Charm\n",
       "6           Anapneo       Clears the target’s airway.       Spell\n",
       "7      Anteoculatia      Turns head hair into antlers         Hex\n",
       "8     Anti-Cheating        Prevents Cheating on Exams       Spell\n",
       "9         Aparecium             Reveals invisible ink       Spell"
      ]
     },
     "execution_count": 5,
     "metadata": {},
     "output_type": "execute_result"
    }
   ],
   "source": [
    "spells.head(10)"
   ]
  },
  {
   "cell_type": "code",
   "execution_count": 6,
   "metadata": {},
   "outputs": [
    {
     "data": {
      "text/plain": [
       "dict_keys(['hp_characters_list', 'hp_classes_list', 'hp_places_list'])"
      ]
     },
     "execution_count": 6,
     "metadata": {},
     "output_type": "execute_result"
    }
   ],
   "source": [
    "extras.keys()"
   ]
  },
  {
   "cell_type": "code",
   "execution_count": 7,
   "metadata": {},
   "outputs": [
    {
     "data": {
      "text/plain": [
       "\"Harry Potter and the Sorcerer's Stone   CHAPTER ONE   THE BOY WHO LIVED   Mr. and Mrs. Dursley, of number four, Privet Drive, were proud to say that they were perfectly normal, thank you very much. They were the last people you'd expect to be involved in anything strange or mysterious, because they just didn't hold with such nonsense.   Mr. Dursley was the director of a firm called Grunnings, which made drills. He was a big, beefy man with hardly any neck, although he did have a very large musta\""
      ]
     },
     "execution_count": 7,
     "metadata": {},
     "output_type": "execute_result"
    }
   ],
   "source": [
    "books['hp1_sorcerers_stone'][:500]"
   ]
  },
  {
   "cell_type": "code",
   "execution_count": 14,
   "metadata": {},
   "outputs": [],
   "source": [
    "try:\n",
    "    import string\n",
    "    import nltk\n",
    "    from nltk import word_tokenize, ngrams\n",
    "    #nltk.download('stopwords')\n",
    "    #nltk.download('punkt')\n",
    "    from nltk.corpus import stopwords as sw\n",
    "except:\n",
    "    import string\n",
    "    import nltk\n",
    "    from nltk import word_tokenize, ngrams\n",
    "    nltk.download('stopwords')\n",
    "    nltk.download('punkt')\n",
    "    from nltk.corpus import stopwords as sw"
   ]
  },
  {
   "cell_type": "code",
   "execution_count": 25,
   "metadata": {},
   "outputs": [],
   "source": [
    "punc = str.maketrans('', '', string.punctuation)\n",
    "\n",
    "def normalize_text(text):\n",
    "    tokens = word_tokenize(text.translate(punc))    \n",
    "    stopwords = sw.words('english')\n",
    "    content = [w for w in tokens if w.lower() not in stopwords]\n",
    "    return content\n",
    "    \n",
    "def get_bigrams(text):\n",
    "    tokens = word_tokenize(text.translate(punc))    \n",
    "    return ngrams(tokens, 2)\n",
    "    \n",
    "def get_trigrams(text):\n",
    "    tokens = word_tokenize(text.translate(punc))    \n",
    "    return ngrams(tokens, 3)\n",
    "\n",
    "def get_wordcount(text):\n",
    "    tokens = word_tokenize(text.translate(punc))    \n",
    "    return len(tokens)\n",
    "    \n",
    "def get_unique_wordcount(text):\n",
    "    tokens = word_tokenize(text.translate(punc)) \n",
    "    return len(set(tokens))\n",
    "\n",
    "def get_unique_punctuation(text):\n",
    "    puctuation = [c for c in text if c in string.punctuation]\n",
    "    return len(puctuation)"
   ]
  },
  {
   "cell_type": "code",
   "execution_count": 27,
   "metadata": {},
   "outputs": [
    {
     "name": "stdout",
     "output_type": "stream",
     "text": [
      "hp1_sorcerers_stone\n",
      "wordcount: 77613\n",
      "unique wordcount: 6925\n",
      "unique puntuation: 23167\n",
      "\n",
      "hp2_chamber_of_secrets\n",
      "wordcount: 85535\n",
      "unique wordcount: 8605\n",
      "unique puntuation: 25563\n",
      "\n",
      "hp3_prisioner_of_azkaban\n",
      "wordcount: 104920\n",
      "unique wordcount: 8943\n",
      "unique puntuation: 31373\n",
      "\n",
      "hp4_globet_of_fire\n",
      "wordcount: 191095\n",
      "unique wordcount: 12184\n",
      "unique puntuation: 53860\n",
      "\n",
      "hp5_order_of_the_phoenix\n",
      "wordcount: 257210\n",
      "unique wordcount: 14730\n",
      "unique puntuation: 66434\n",
      "\n",
      "hp6_half_blood_prince\n",
      "wordcount: 170337\n",
      "unique wordcount: 12193\n",
      "unique puntuation: 52291\n",
      "\n",
      "hp7_deathly_hallows\n",
      "wordcount: 197581\n",
      "unique wordcount: 13272\n",
      "unique puntuation: 53004\n",
      "\n"
     ]
    }
   ],
   "source": [
    "books_clean = {}\n",
    "\n",
    "for book in books.keys():\n",
    "    books_clean[book] = normalize_text(books[book])\n",
    "    books_clean['{}_bigrams'.format(book)] = get_bigrams(books[book])\n",
    "    books_clean['{}_trigrams'.format(book)] = get_trigrams(books[book])\n",
    "    books_clean['{}_wordcount'.format(book)] = get_wordcount(books[book])\n",
    "    books_clean['{}_unique_wordcount'.format(book)] = get_unique_wordcount(books[book])\n",
    "    books_clean['{}_unique_punctuation'.format(book)] = get_unique_punctuation(books[book])\n",
    "    \n",
    "    print('{}\\nwordcount: {}\\nunique wordcount: {}\\nunique puntuation: {}\\n'.format(\n",
    "        book,\n",
    "        books_clean['{}_wordcount'.format(book)],\n",
    "        books_clean['{}_unique_wordcount'.format(book)],\n",
    "        books_clean['{}_unique_punctuation'.format(book)])\n",
    "    )\n"
   ]
  },
  {
   "cell_type": "code",
   "execution_count": 39,
   "metadata": {},
   "outputs": [],
   "source": [
    "def count_word(text, word):\n",
    "    c = 0\n",
    "    for item in text:\n",
    "        if item.lower == word:\n",
    "            c = c+1\n",
    "    print(c)\n",
    "    return c"
   ]
  },
  {
   "cell_type": "code",
   "execution_count": 36,
   "metadata": {},
   "outputs": [
    {
     "name": "stdout",
     "output_type": "stream",
     "text": [
      "0\n"
     ]
    }
   ],
   "source": [
    "print(count_word(books_clean['hp1_sorcerers_stone'], 'harry'))"
   ]
  }
 ],
 "metadata": {
  "kernelspec": {
   "display_name": "Python 3",
   "language": "python",
   "name": "python3"
  },
  "language_info": {
   "codemirror_mode": {
    "name": "ipython",
    "version": 3
   },
   "file_extension": ".py",
   "mimetype": "text/x-python",
   "name": "python",
   "nbconvert_exporter": "python",
   "pygments_lexer": "ipython3",
   "version": "3.6.7"
  }
 },
 "nbformat": 4,
 "nbformat_minor": 2
}
